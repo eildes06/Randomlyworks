{
  "nbformat": 4,
  "nbformat_minor": 0,
  "metadata": {
    "colab": {
      "name": "deforlambda.ipynb",
      "provenance": [],
      "authorship_tag": "ABX9TyMNlPU4GCS1tiQybKhT6UN1",
      "include_colab_link": true
    },
    "kernelspec": {
      "name": "python3",
      "display_name": "Python 3"
    },
    "language_info": {
      "name": "python"
    }
  },
  "cells": [
    {
      "cell_type": "markdown",
      "metadata": {
        "id": "view-in-github",
        "colab_type": "text"
      },
      "source": [
        "<a href=\"https://colab.research.google.com/github/eildes06/Randomlyworks/blob/main/deforlambda.ipynb\" target=\"_parent\"><img src=\"https://colab.research.google.com/assets/colab-badge.svg\" alt=\"Open In Colab\"/></a>"
      ]
    },
    {
      "cell_type": "code",
      "source": [
        ""
      ],
      "metadata": {
        "id": "Tl5N63AnmaCc"
      },
      "execution_count": null,
      "outputs": []
    },
    {
      "cell_type": "markdown",
      "source": [
        "Def"
      ],
      "metadata": {
        "id": "28sc7dhfmdFW"
      }
    },
    {
      "cell_type": "code",
      "source": [
        "def kareal(x):\n",
        "    return x**2\n",
        "print(kareal(8))"
      ],
      "metadata": {
        "colab": {
          "base_uri": "https://localhost:8080/"
        },
        "id": "5ZnSUXkumc3z",
        "outputId": "c4924067-c9b7-44f1-ecdc-4b15956c3769"
      },
      "execution_count": 1,
      "outputs": [
        {
          "output_type": "stream",
          "name": "stdout",
          "text": [
            "64\n"
          ]
        }
      ]
    },
    {
      "cell_type": "markdown",
      "source": [
        "Lamda"
      ],
      "metadata": {
        "id": "0qnINo_mm1Ee"
      }
    },
    {
      "cell_type": "code",
      "source": [
        "print((lambda x:x**2)(8))"
      ],
      "metadata": {
        "colab": {
          "base_uri": "https://localhost:8080/"
        },
        "id": "sQM_7nyCmaFu",
        "outputId": "f82f7316-c240-4a8c-fbb2-946d6e2e0990"
      },
      "execution_count": 2,
      "outputs": [
        {
          "output_type": "stream",
          "name": "stdout",
          "text": [
            "64\n"
          ]
        }
      ]
    },
    {
      "cell_type": "code",
      "source": [
        "kare_al= lambda x: x**2\n",
        "print(kare_al(8))"
      ],
      "metadata": {
        "colab": {
          "base_uri": "https://localhost:8080/"
        },
        "id": "gShnQ0xKmaI2",
        "outputId": "946669b3-d53f-4297-c5dd-4acb890f9bc4"
      },
      "execution_count": 3,
      "outputs": [
        {
          "output_type": "stream",
          "name": "stdout",
          "text": [
            "64\n"
          ]
        }
      ]
    },
    {
      "cell_type": "markdown",
      "source": [
        "Lambda fonksiyonları bilinen def fonksiyonlarının içinde, map(), filter(), reduce() veya Pandas kütüphanesindeki appy() fonksiyonları ile birlikte kullanılabilir."
      ],
      "metadata": {
        "id": "LZ5OH3Txodhp"
      }
    },
    {
      "cell_type": "code",
      "source": [
        "def fonk(num):\n",
        "  return lambda x: x*num\n",
        "ilk= fonk(5)\n",
        "print(ilk)\n"
      ],
      "metadata": {
        "colab": {
          "base_uri": "https://localhost:8080/"
        },
        "id": "0JafVcAhmaNP",
        "outputId": "d4bcfa3d-cabb-4168-da1c-36e4d5f3f8ef"
      },
      "execution_count": 4,
      "outputs": [
        {
          "output_type": "stream",
          "name": "stdout",
          "text": [
            "<function fonk.<locals>.<lambda> at 0x7fbbcedda950>\n"
          ]
        }
      ]
    },
    {
      "cell_type": "code",
      "source": [
        "iki=fonk (5)(2)\n",
        "iki"
      ],
      "metadata": {
        "colab": {
          "base_uri": "https://localhost:8080/"
        },
        "id": "HD07q4sDmaPR",
        "outputId": "33f136a4-9abb-419f-e674-94ed93372565"
      },
      "execution_count": 5,
      "outputs": [
        {
          "output_type": "execute_result",
          "data": {
            "text/plain": [
              "10"
            ]
          },
          "metadata": {},
          "execution_count": 5
        }
      ]
    },
    {
      "cell_type": "markdown",
      "source": [
        "Filter ile Lambda Kullanım"
      ],
      "metadata": {
        "id": "EXVSODD4tyMO"
      }
    },
    {
      "cell_type": "code",
      "source": [
        "list_number = [2, 4, 6, 8, 9, 10, 12, 13]"
      ],
      "metadata": {
        "id": "uq8fwWHatxJj"
      },
      "execution_count": 6,
      "outputs": []
    },
    {
      "cell_type": "code",
      "source": [
        "fill_l = list(filter(lambda x: (x>7)and (x<12),list_number))\n",
        "print(fill_l)"
      ],
      "metadata": {
        "colab": {
          "base_uri": "https://localhost:8080/"
        },
        "id": "UyCE7xCfmaUU",
        "outputId": "5723196e-7515-423b-e1ed-69e3d606573d"
      },
      "execution_count": 7,
      "outputs": [
        {
          "output_type": "stream",
          "name": "stdout",
          "text": [
            "[8, 9, 10]\n"
          ]
        }
      ]
    },
    {
      "cell_type": "code",
      "source": [
        "fill_lj = list(map(lambda x: (x**3),list_number))\n",
        "fill_lj"
      ],
      "metadata": {
        "colab": {
          "base_uri": "https://localhost:8080/"
        },
        "id": "4TE-u4C0u27C",
        "outputId": "a645a6c2-2d36-434b-e1ec-30279c1d7041"
      },
      "execution_count": 8,
      "outputs": [
        {
          "output_type": "execute_result",
          "data": {
            "text/plain": [
              "[8, 64, 216, 512, 729, 1000, 1728, 2197]"
            ]
          },
          "metadata": {},
          "execution_count": 8
        }
      ]
    },
    {
      "cell_type": "code",
      "source": [
        "fill_lw=list(filter(lambda x: (x%2==0),list_number))\n",
        "fill_lw"
      ],
      "metadata": {
        "colab": {
          "base_uri": "https://localhost:8080/"
        },
        "id": "TKAdrBTPu23L",
        "outputId": "2fff7792-6ba0-4b44-e627-4717c9e0a2ec"
      },
      "execution_count": 9,
      "outputs": [
        {
          "output_type": "execute_result",
          "data": {
            "text/plain": [
              "[2, 4, 6, 8, 10, 12]"
            ]
          },
          "metadata": {},
          "execution_count": 9
        }
      ]
    },
    {
      "cell_type": "markdown",
      "source": [
        "Map ile Lambda Kullanımı"
      ],
      "metadata": {
        "id": "DnVcOSP61DDe"
      }
    },
    {
      "cell_type": "code",
      "source": [
        "list_0 = [5, 7, 22, 9875]"
      ],
      "metadata": {
        "id": "TPyuqQOGu2zi"
      },
      "execution_count": 10,
      "outputs": []
    },
    {
      "cell_type": "code",
      "source": [
        "final_list = list(map(lambda x:x%2, list_0))\n",
        "final_list"
      ],
      "metadata": {
        "colab": {
          "base_uri": "https://localhost:8080/"
        },
        "id": "6uPAbJ7E1Its",
        "outputId": "2a106a47-9644-4106-c992-5c9110395e3e"
      },
      "execution_count": 11,
      "outputs": [
        {
          "output_type": "execute_result",
          "data": {
            "text/plain": [
              "[1, 1, 0, 1]"
            ]
          },
          "metadata": {},
          "execution_count": 11
        }
      ]
    },
    {
      "cell_type": "markdown",
      "source": [
        "liste birlestirme"
      ],
      "metadata": {
        "id": "xV8EMPbI1vaG"
      }
    },
    {
      "cell_type": "code",
      "source": [
        "list_1 = [\"A:\",\"B\", \"C\"]\n",
        "list_2 = [1, 2, 3]"
      ],
      "metadata": {
        "id": "cejVMlaH1IrH"
      },
      "execution_count": 12,
      "outputs": []
    },
    {
      "cell_type": "code",
      "source": [
        "list_merge = list(map(lambda x,y :(x + \"-\" + str(y)), list_1,  list_2))\n",
        "list_merge"
      ],
      "metadata": {
        "colab": {
          "base_uri": "https://localhost:8080/"
        },
        "id": "52cetna71Imo",
        "outputId": "2081b324-4400-4d13-f293-050aee6773eb"
      },
      "execution_count": 13,
      "outputs": [
        {
          "output_type": "execute_result",
          "data": {
            "text/plain": [
              "['A:-1', 'B-2', 'C-3']"
            ]
          },
          "metadata": {},
          "execution_count": 13
        }
      ]
    },
    {
      "cell_type": "code",
      "source": [
        "list_11 = [\"Ort_not\",\"Ali\", \"Burak\", \"Can\"]\n",
        "list_21 = [60,100, 20, 30]"
      ],
      "metadata": {
        "id": "ziYxRGPJ1IhX"
      },
      "execution_count": 14,
      "outputs": []
    },
    {
      "cell_type": "code",
      "source": [
        "list_merge1 = list(map(lambda x,y :(x + \":\" + str(y)), list_11,  list_21))\n",
        "list_merge1"
      ],
      "metadata": {
        "colab": {
          "base_uri": "https://localhost:8080/"
        },
        "id": "hHfaKT-H3P-B",
        "outputId": "10cdba16-c8fd-42b8-d952-1189a236206c"
      },
      "execution_count": 15,
      "outputs": [
        {
          "output_type": "execute_result",
          "data": {
            "text/plain": [
              "['Ort_not:60', 'Ali:100', 'Burak:20', 'Can:30']"
            ]
          },
          "metadata": {},
          "execution_count": 15
        }
      ]
    },
    {
      "cell_type": "code",
      "source": [
        "dict_1 = {\n",
        "    1: 'A',\n",
        "    2: 'B',\n",
        "    3: 'C',\n",
        "    4: 'D',\n",
        "}"
      ],
      "metadata": {
        "id": "WOLqcBWd1IdL"
      },
      "execution_count": 16,
      "outputs": []
    },
    {
      "cell_type": "code",
      "source": [
        "dictChange= dict(map(lambda x: (x[0],x[1]+\"-\"+str(x[0])),dict_1.items()))\n",
        "dictChange"
      ],
      "metadata": {
        "colab": {
          "base_uri": "https://localhost:8080/"
        },
        "id": "xxQqknBD1IXL",
        "outputId": "40fafe8d-27f2-43a2-c36f-377d8397ef58"
      },
      "execution_count": 17,
      "outputs": [
        {
          "output_type": "execute_result",
          "data": {
            "text/plain": [
              "{1: 'A-1', 2: 'B-2', 3: 'C-3', 4: 'D-4'}"
            ]
          },
          "metadata": {},
          "execution_count": 17
        }
      ]
    },
    {
      "cell_type": "markdown",
      "source": [
        "Pandas Apply Fonksiyonu ile Lambda Kullanımı"
      ],
      "metadata": {
        "id": "8t2kFS0_5Bt8"
      }
    },
    {
      "cell_type": "code",
      "source": [
        "import pandas as pd\n",
        "import numpy as np\n",
        "from datetime import datetime"
      ],
      "metadata": {
        "id": "AMnEr4nh5Bc2"
      },
      "execution_count": 18,
      "outputs": []
    },
    {
      "cell_type": "code",
      "source": [
        "df = pd.DataFrame({\n",
        "    'name':['Weber', 'Durkheim', 'Comte'],\n",
        "    'yearOfBirth':[1864, 1858, 1798],\n",
        "    'countOfBook':[18, 10, 15],\n",
        "    \"any\":[1,2,3]\n",
        "})"
      ],
      "metadata": {
        "id": "WFdeJZJM5Kpu"
      },
      "execution_count": 19,
      "outputs": []
    },
    {
      "cell_type": "markdown",
      "source": [
        "# Değişken içerisinde normalizasyon\n",
        "# 0 ve 1 arasına değerleri indirgeme"
      ],
      "metadata": {
        "id": "8o8C6r4dNASH"
      }
    },
    {
      "cell_type": "code",
      "source": [
        "minValue = df[\"countOfBook\"].min()\n",
        "minMaxDifferenceValue = df[\"countOfBook\"].max() - df[\"countOfBook\"].min()"
      ],
      "metadata": {
        "id": "NGQl8cib5Kmp"
      },
      "execution_count": 25,
      "outputs": []
    },
    {
      "cell_type": "code",
      "source": [
        "df[\"countOfBook\"] = df[\"countOfBook\"].apply(lambda x: (x - minValue) / minMaxDifferenceValue)\n",
        "print(df[\"countOfBook\"] )"
      ],
      "metadata": {
        "colab": {
          "base_uri": "https://localhost:8080/"
        },
        "id": "hMe5_jws5KjT",
        "outputId": "3442fdfc-e718-4a53-afd7-60d31cba64ed"
      },
      "execution_count": 26,
      "outputs": [
        {
          "output_type": "stream",
          "name": "stdout",
          "text": [
            "0    1.000\n",
            "1    0.000\n",
            "2    0.625\n",
            "Name: countOfBook, dtype: float64\n"
          ]
        }
      ]
    },
    {
      "cell_type": "code",
      "source": [
        "df[\"age\"] = df[\"yearOfBirth\"].apply(lambda x: datetime.today().year - x)\n",
        "print(df)\n"
      ],
      "metadata": {
        "colab": {
          "base_uri": "https://localhost:8080/"
        },
        "id": "osIlDRSiMurL",
        "outputId": "019f8077-1980-4b5f-96d7-3539a1d10018"
      },
      "execution_count": 27,
      "outputs": [
        {
          "output_type": "stream",
          "name": "stdout",
          "text": [
            "       name  yearOfBirth  countOfBook  any  age\n",
            "0     Weber         1864        1.000    1  158\n",
            "1  Durkheim         1858        0.000    2  164\n",
            "2     Comte         1798        0.625    3  224\n"
          ]
        }
      ]
    },
    {
      "cell_type": "code",
      "source": [
        ""
      ],
      "metadata": {
        "id": "tNodLDioMunu"
      },
      "execution_count": null,
      "outputs": []
    },
    {
      "cell_type": "code",
      "source": [
        ""
      ],
      "metadata": {
        "id": "0IJK7msxMuYo"
      },
      "execution_count": null,
      "outputs": []
    }
  ]
}